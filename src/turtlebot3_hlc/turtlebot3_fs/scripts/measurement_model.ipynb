{
 "cells": [
  {
   "cell_type": "code",
   "execution_count": 1,
   "metadata": {},
   "outputs": [],
   "source": [
    "import numpy as np\n",
    "import matplotlib.pyplot as plt\n",
    "from mpl_toolkits.mplot3d import Axes3D"
   ]
  },
  {
   "cell_type": "code",
   "execution_count": 2,
   "metadata": {},
   "outputs": [],
   "source": [
    "def normalize(P):\n",
    "    return P/np.max(np.sum(P))"
   ]
  },
  {
   "cell_type": "code",
   "execution_count": 11,
   "metadata": {},
   "outputs": [],
   "source": [
    "zs = np.arange(0, 10.01, 0.01)\n",
    "\n",
    "varz = 0.05 # Variance\n",
    "zexp = 5.0  # here is the obstacle\n",
    "\n",
    "Pzx_hit = 1.0/np.sqrt(2*np.pi*varz) * np.exp(-0.5 * (zs-zexp)**2/varz)\n",
    "Pzx_hit = normalize(Pzx_hit)"
   ]
  },
  {
   "cell_type": "code",
   "execution_count": null,
   "metadata": {},
   "outputs": [],
   "source": [
    "lamb = 0.5\n",
    "\n",
    "Pzx_unexp = lamb * np.exp(-lamb * zs)\n",
    "Pzx_unexp[zs>zexp] = 0.0\n",
    "\n",
    "Pzx_unexp = normalize(Pzx_unexp)"
   ]
  }
 ],
 "metadata": {
  "kernelspec": {
   "display_name": "Python 3",
   "language": "python",
   "name": "python3"
  },
  "language_info": {
   "codemirror_mode": {
    "name": "ipython",
    "version": 3
   },
   "file_extension": ".py",
   "mimetype": "text/x-python",
   "name": "python",
   "nbconvert_exporter": "python",
   "pygments_lexer": "ipython3",
   "version": "3.8.10"
  },
  "orig_nbformat": 4
 },
 "nbformat": 4,
 "nbformat_minor": 2
}
